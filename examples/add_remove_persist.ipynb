{
 "cells": [
  {
   "cell_type": "code",
   "execution_count": 1,
   "id": "f5fc3d97",
   "metadata": {},
   "outputs": [],
   "source": [
    "from yoloexplorer import Explorer"
   ]
  },
  {
   "cell_type": "code",
   "execution_count": 2,
   "id": "0992199f",
   "metadata": {},
   "outputs": [
    {
     "name": "stderr",
     "output_type": "stream",
     "text": [
      "Ultralytics YOLOv8.0.120 🚀 Python-3.11.4 torch-2.0.1 CPU\n",
      "YOLOv8n summary (fused): 168 layers, 3151904 parameters, 0 gradients\n",
      "Scanning /Users/ayushchaurasia/Documents/ultralytics/datasets/VOC/labels/train2007... 16551 images, 0 backgrounds, 0 corrupt: 100%|█████████\n",
      "New cache created: /Users/ayushchaurasia/Documents/ultralytics/datasets/VOC/labels/train2007.cache\n",
      "LanceDB embedding space already exists. Attempting to reuse it. Use force=True to overwrite.\n",
      "Table length does not match the number of images in the dataset. Building embeddings...\n"
     ]
    },
    {
     "name": "stdout",
     "output_type": "stream",
     "text": [
      "WARNING: rate limit only support up to 3.10, proceeding without rate limiter\n"
     ]
    },
    {
     "name": "stderr",
     "output_type": "stream",
     "text": [
      "100%|█████████████████████████████████████████████████████████████████████████████████████████████████| 16551/16551 [15:22<00:00, 17.94it/s]\n",
      "\u001b[34m\u001b[1mLanceDB:\u001b[0m Embedding space built successfully.\n"
     ]
    }
   ],
   "source": [
    "voc_exp = Explorer(\"VOC.yaml\")\n",
    "voc_exp.build_embeddings()"
   ]
  },
  {
   "cell_type": "code",
   "execution_count": 4,
   "id": "9bb61d27",
   "metadata": {},
   "outputs": [
    {
     "name": "stderr",
     "output_type": "stream",
     "text": [
      "Ultralytics YOLOv8.0.120 🚀 Python-3.11.4 torch-2.0.1 CPU\n",
      "YOLOv8n summary (fused): 168 layers, 3151904 parameters, 0 gradients\n",
      "Scanning /Users/ayushchaurasia/Documents/ultralytics/datasets/coco8/labels/train.cache... 4 images, 0 backgrounds, 0 corrupt: 100%|█████████\n"
     ]
    },
    {
     "name": "stdout",
     "output_type": "stream",
     "text": [
      "WARNING: rate limit only support up to 3.10, proceeding without rate limiter\n"
     ]
    },
    {
     "name": "stderr",
     "output_type": "stream",
     "text": [
      "100%|█████████████████████████████████████████████████████████████████████████████████████████████████████████| 4/4 [00:00<00:00, 16.75it/s]\n",
      "\u001b[34m\u001b[1mLanceDB:\u001b[0m Embedding space built successfully.\n"
     ]
    }
   ],
   "source": [
    "coco_exp = Explorer(\"coco8.yaml\")\n",
    "coco_exp.build_embeddings()"
   ]
  },
  {
   "cell_type": "code",
   "execution_count": 6,
   "id": "d2f17222",
   "metadata": {},
   "outputs": [
    {
     "name": "stderr",
     "output_type": "stream",
     "text": [
      "\n",
      "|-----------------------------------------------|\n",
      "\t Number of images: 16555\n",
      "|------------------------------------------------|\n"
     ]
    }
   ],
   "source": [
    "voc_exp.add_imgs(coco_exp, [0,1,2,3])"
   ]
  },
  {
   "cell_type": "code",
   "execution_count": 8,
   "id": "fbca050d",
   "metadata": {},
   "outputs": [
    {
     "data": {
      "text/html": [
       "<div>\n",
       "<style scoped>\n",
       "    .dataframe tbody tr th:only-of-type {\n",
       "        vertical-align: middle;\n",
       "    }\n",
       "\n",
       "    .dataframe tbody tr th {\n",
       "        vertical-align: top;\n",
       "    }\n",
       "\n",
       "    .dataframe thead th {\n",
       "        text-align: right;\n",
       "    }\n",
       "</style>\n",
       "<table border=\"1\" class=\"dataframe\">\n",
       "  <thead>\n",
       "    <tr style=\"text-align: right;\">\n",
       "      <th></th>\n",
       "      <th>id</th>\n",
       "      <th>path</th>\n",
       "      <th>cls</th>\n",
       "      <th>labels</th>\n",
       "      <th>bboxes</th>\n",
       "      <th>img</th>\n",
       "      <th>vector</th>\n",
       "    </tr>\n",
       "  </thead>\n",
       "  <tbody>\n",
       "    <tr>\n",
       "      <th>16550</th>\n",
       "      <td>16550</td>\n",
       "      <td>/Users/ayushchaurasia/Documents/ultralytics/da...</td>\n",
       "      <td>[0]</td>\n",
       "      <td>[aeroplane]</td>\n",
       "      <td>[[0.4880000352859497, 0.40942928194999695, 0.8...</td>\n",
       "      <td>b'\\xff\\xd8\\xff\\xe0\\x00\\x10JFIF\\x00\\x01\\x01\\x00...</td>\n",
       "      <td>[-0.17438583, -0.17087273, -0.13651106, -0.177...</td>\n",
       "    </tr>\n",
       "    <tr>\n",
       "      <th>16551</th>\n",
       "      <td>0</td>\n",
       "      <td>/Users/ayushchaurasia/Documents/ultralytics/da...</td>\n",
       "      <td>[45, 45, 45, 49, 49, 49, 49, 50]</td>\n",
       "      <td>[bowl, bowl, bowl, orange, orange, orange, ora...</td>\n",
       "      <td>[[0.4794920086860657, 0.6887710094451904, 0.95...</td>\n",
       "      <td>b'\\xff\\xd8\\xff\\xe0\\x00\\x10JFIF\\x00\\x01\\x01\\x00...</td>\n",
       "      <td>[-0.02985644, 0.015207137, 0.22520831, 0.13441...</td>\n",
       "    </tr>\n",
       "    <tr>\n",
       "      <th>16552</th>\n",
       "      <td>1</td>\n",
       "      <td>/Users/ayushchaurasia/Documents/ultralytics/da...</td>\n",
       "      <td>[23, 23]</td>\n",
       "      <td>[giraffe, giraffe]</td>\n",
       "      <td>[[0.7703359723091125, 0.4896950125694275, 0.33...</td>\n",
       "      <td>b'\\xff\\xd8\\xff\\xe0\\x00\\x10JFIF\\x00\\x01\\x01\\x00...</td>\n",
       "      <td>[-0.2151032, -0.15736936, -0.08698822, -0.0328...</td>\n",
       "    </tr>\n",
       "    <tr>\n",
       "      <th>16553</th>\n",
       "      <td>2</td>\n",
       "      <td>/Users/ayushchaurasia/Documents/ultralytics/da...</td>\n",
       "      <td>[58, 75]</td>\n",
       "      <td>[potted plant, vase]</td>\n",
       "      <td>[[0.5192189812660217, 0.4511209726333618, 0.39...</td>\n",
       "      <td>b'\\xff\\xd8\\xff\\xe0\\x00\\x10JFIF\\x00\\x01\\x01\\x00...</td>\n",
       "      <td>[-0.1577483, -0.07757879, 0.1852913, 0.0405876...</td>\n",
       "    </tr>\n",
       "    <tr>\n",
       "      <th>16554</th>\n",
       "      <td>3</td>\n",
       "      <td>/Users/ayushchaurasia/Documents/ultralytics/da...</td>\n",
       "      <td>[22]</td>\n",
       "      <td>[zebra]</td>\n",
       "      <td>[[0.3462109863758087, 0.4932590126991272, 0.68...</td>\n",
       "      <td>b'\\xff\\xd8\\xff\\xe0\\x00\\x10JFIF\\x00\\x01\\x01\\x00...</td>\n",
       "      <td>[-0.14650379, -0.2218233, -0.10506437, -0.1519...</td>\n",
       "    </tr>\n",
       "  </tbody>\n",
       "</table>\n",
       "</div>"
      ],
      "text/plain": [
       "          id                                               path  \\\n",
       "16550  16550  /Users/ayushchaurasia/Documents/ultralytics/da...   \n",
       "16551      0  /Users/ayushchaurasia/Documents/ultralytics/da...   \n",
       "16552      1  /Users/ayushchaurasia/Documents/ultralytics/da...   \n",
       "16553      2  /Users/ayushchaurasia/Documents/ultralytics/da...   \n",
       "16554      3  /Users/ayushchaurasia/Documents/ultralytics/da...   \n",
       "\n",
       "                                    cls  \\\n",
       "16550                               [0]   \n",
       "16551  [45, 45, 45, 49, 49, 49, 49, 50]   \n",
       "16552                          [23, 23]   \n",
       "16553                          [58, 75]   \n",
       "16554                              [22]   \n",
       "\n",
       "                                                  labels  \\\n",
       "16550                                        [aeroplane]   \n",
       "16551  [bowl, bowl, bowl, orange, orange, orange, ora...   \n",
       "16552                                 [giraffe, giraffe]   \n",
       "16553                               [potted plant, vase]   \n",
       "16554                                            [zebra]   \n",
       "\n",
       "                                                  bboxes  \\\n",
       "16550  [[0.4880000352859497, 0.40942928194999695, 0.8...   \n",
       "16551  [[0.4794920086860657, 0.6887710094451904, 0.95...   \n",
       "16552  [[0.7703359723091125, 0.4896950125694275, 0.33...   \n",
       "16553  [[0.5192189812660217, 0.4511209726333618, 0.39...   \n",
       "16554  [[0.3462109863758087, 0.4932590126991272, 0.68...   \n",
       "\n",
       "                                                     img  \\\n",
       "16550  b'\\xff\\xd8\\xff\\xe0\\x00\\x10JFIF\\x00\\x01\\x01\\x00...   \n",
       "16551  b'\\xff\\xd8\\xff\\xe0\\x00\\x10JFIF\\x00\\x01\\x01\\x00...   \n",
       "16552  b'\\xff\\xd8\\xff\\xe0\\x00\\x10JFIF\\x00\\x01\\x01\\x00...   \n",
       "16553  b'\\xff\\xd8\\xff\\xe0\\x00\\x10JFIF\\x00\\x01\\x01\\x00...   \n",
       "16554  b'\\xff\\xd8\\xff\\xe0\\x00\\x10JFIF\\x00\\x01\\x01\\x00...   \n",
       "\n",
       "                                                  vector  \n",
       "16550  [-0.17438583, -0.17087273, -0.13651106, -0.177...  \n",
       "16551  [-0.02985644, 0.015207137, 0.22520831, 0.13441...  \n",
       "16552  [-0.2151032, -0.15736936, -0.08698822, -0.0328...  \n",
       "16553  [-0.1577483, -0.07757879, 0.1852913, 0.0405876...  \n",
       "16554  [-0.14650379, -0.2218233, -0.10506437, -0.1519...  "
      ]
     },
     "execution_count": 8,
     "metadata": {},
     "output_type": "execute_result"
    }
   ],
   "source": [
    "voc_exp.table.to_pandas().tail()"
   ]
  },
  {
   "cell_type": "code",
   "execution_count": 9,
   "id": "0652d847",
   "metadata": {},
   "outputs": [
    {
     "name": "stderr",
     "output_type": "stream",
     "text": [
      "Ultralytics YOLOv8.0.120 🚀 Python-3.11.4 torch-2.0.1 CPU\n",
      "YOLOv8n summary (fused): 168 layers, 3151904 parameters, 0 gradients\n",
      "Scanning /Users/ayushchaurasia/Documents/ultralytics/datasets/coco128/labels/train2017.cache... 126 images, 2 backgrounds, 0 corrupt: 100%|█\n",
      "LanceDB embedding space already exists. Attempting to reuse it. Use force=True to overwrite.\n",
      "Ultralytics YOLOv8.0.120 🚀 Python-3.11.4 torch-2.0.1 CPU\n",
      "YOLOv8n summary (fused): 168 layers, 3151904 parameters, 0 gradients\n",
      "Scanning /Users/ayushchaurasia/Documents/ultralytics/datasets/coco8/labels/train.cache... 4 images, 0 backgrounds, 0 corrupt: 100%|█████████\n",
      "LanceDB embedding space already exists. Attempting to reuse it. Use force=True to overwrite.\n"
     ]
    }
   ],
   "source": [
    "coco128_exp = Explorer(\"coco128.yaml\")\n",
    "coco128_exp.build_embeddings()\n",
    "\n",
    "coco8_exp = Explorer(\"coco8.yaml\")\n",
    "coco8_exp.build_embeddings()\n"
   ]
  },
  {
   "cell_type": "code",
   "execution_count": 10,
   "id": "4211c07e",
   "metadata": {},
   "outputs": [
    {
     "name": "stderr",
     "output_type": "stream",
     "text": [
      "\n",
      "|-----------------------------------------------|\n",
      "\t Number of images: 130\n",
      "|------------------------------------------------|\n"
     ]
    }
   ],
   "source": [
    "coco128_exp.add_imgs(coco8_exp, [2,3])"
   ]
  },
  {
   "cell_type": "code",
   "execution_count": 11,
   "id": "e9210257",
   "metadata": {},
   "outputs": [
    {
     "data": {
      "text/html": [
       "<div>\n",
       "<style scoped>\n",
       "    .dataframe tbody tr th:only-of-type {\n",
       "        vertical-align: middle;\n",
       "    }\n",
       "\n",
       "    .dataframe tbody tr th {\n",
       "        vertical-align: top;\n",
       "    }\n",
       "\n",
       "    .dataframe thead th {\n",
       "        text-align: right;\n",
       "    }\n",
       "</style>\n",
       "<table border=\"1\" class=\"dataframe\">\n",
       "  <thead>\n",
       "    <tr style=\"text-align: right;\">\n",
       "      <th></th>\n",
       "      <th>id</th>\n",
       "      <th>path</th>\n",
       "      <th>cls</th>\n",
       "      <th>labels</th>\n",
       "      <th>bboxes</th>\n",
       "      <th>img</th>\n",
       "      <th>vector</th>\n",
       "    </tr>\n",
       "  </thead>\n",
       "  <tbody>\n",
       "    <tr>\n",
       "      <th>125</th>\n",
       "      <td>125</td>\n",
       "      <td>/Users/ayushchaurasia/Documents/ultralytics/da...</td>\n",
       "      <td>[0, 0, 0, 0, 0, 0, 0, 0, 0, 1, 1, 5]</td>\n",
       "      <td>[person, person, person, person, person, perso...</td>\n",
       "      <td>[[0.912320077419281, 0.5608879923820496, 0.017...</td>\n",
       "      <td>b'\\xff\\xd8\\xff\\xe0\\x00\\x10JFIF\\x00\\x01\\x01\\x00...</td>\n",
       "      <td>[-0.1441657, -0.18747765, -0.16826846, -0.1800...</td>\n",
       "    </tr>\n",
       "    <tr>\n",
       "      <th>126</th>\n",
       "      <td>126</td>\n",
       "      <td>/Users/ayushchaurasia/Documents/ultralytics/da...</td>\n",
       "      <td>[39, 39, 45, 62, 64, 73, 73, 73, 73, 73, 73, 7...</td>\n",
       "      <td>[bottle, bottle, bowl, tv, mouse, book, book, ...</td>\n",
       "      <td>[[0.18036000430583954, 0.8277199864387512, 0.0...</td>\n",
       "      <td>b'\\xff\\xd8\\xff\\xe0\\x00\\x10JFIF\\x00\\x01\\x01\\x00...</td>\n",
       "      <td>[-0.10117926, -0.09878854, 0.06405701, -0.0227...</td>\n",
       "    </tr>\n",
       "    <tr>\n",
       "      <th>127</th>\n",
       "      <td>127</td>\n",
       "      <td>/Users/ayushchaurasia/Documents/ultralytics/da...</td>\n",
       "      <td>[2, 15]</td>\n",
       "      <td>[car, cat]</td>\n",
       "      <td>[[0.5018590092658997, 0.8207259178161621, 0.99...</td>\n",
       "      <td>b'\\xff\\xd8\\xff\\xe0\\x00\\x10JFIF\\x00\\x01\\x01\\x00...</td>\n",
       "      <td>[-0.13692749, -0.14139369, 0.24011154, 0.07854...</td>\n",
       "    </tr>\n",
       "    <tr>\n",
       "      <th>128</th>\n",
       "      <td>2</td>\n",
       "      <td>/Users/ayushchaurasia/Documents/ultralytics/da...</td>\n",
       "      <td>[58, 75]</td>\n",
       "      <td>[potted plant, vase]</td>\n",
       "      <td>[[0.5192189812660217, 0.4511209726333618, 0.39...</td>\n",
       "      <td>b'\\xff\\xd8\\xff\\xe0\\x00\\x10JFIF\\x00\\x01\\x01\\x00...</td>\n",
       "      <td>[-0.1577483, -0.07757879, 0.1852913, 0.0405876...</td>\n",
       "    </tr>\n",
       "    <tr>\n",
       "      <th>129</th>\n",
       "      <td>3</td>\n",
       "      <td>/Users/ayushchaurasia/Documents/ultralytics/da...</td>\n",
       "      <td>[22]</td>\n",
       "      <td>[zebra]</td>\n",
       "      <td>[[0.3462109863758087, 0.4932590126991272, 0.68...</td>\n",
       "      <td>b'\\xff\\xd8\\xff\\xe0\\x00\\x10JFIF\\x00\\x01\\x01\\x00...</td>\n",
       "      <td>[-0.14650379, -0.2218233, -0.10506437, -0.1519...</td>\n",
       "    </tr>\n",
       "  </tbody>\n",
       "</table>\n",
       "</div>"
      ],
      "text/plain": [
       "      id                                               path  \\\n",
       "125  125  /Users/ayushchaurasia/Documents/ultralytics/da...   \n",
       "126  126  /Users/ayushchaurasia/Documents/ultralytics/da...   \n",
       "127  127  /Users/ayushchaurasia/Documents/ultralytics/da...   \n",
       "128    2  /Users/ayushchaurasia/Documents/ultralytics/da...   \n",
       "129    3  /Users/ayushchaurasia/Documents/ultralytics/da...   \n",
       "\n",
       "                                                   cls  \\\n",
       "125               [0, 0, 0, 0, 0, 0, 0, 0, 0, 1, 1, 5]   \n",
       "126  [39, 39, 45, 62, 64, 73, 73, 73, 73, 73, 73, 7...   \n",
       "127                                            [2, 15]   \n",
       "128                                           [58, 75]   \n",
       "129                                               [22]   \n",
       "\n",
       "                                                labels  \\\n",
       "125  [person, person, person, person, person, perso...   \n",
       "126  [bottle, bottle, bowl, tv, mouse, book, book, ...   \n",
       "127                                         [car, cat]   \n",
       "128                               [potted plant, vase]   \n",
       "129                                            [zebra]   \n",
       "\n",
       "                                                bboxes  \\\n",
       "125  [[0.912320077419281, 0.5608879923820496, 0.017...   \n",
       "126  [[0.18036000430583954, 0.8277199864387512, 0.0...   \n",
       "127  [[0.5018590092658997, 0.8207259178161621, 0.99...   \n",
       "128  [[0.5192189812660217, 0.4511209726333618, 0.39...   \n",
       "129  [[0.3462109863758087, 0.4932590126991272, 0.68...   \n",
       "\n",
       "                                                   img  \\\n",
       "125  b'\\xff\\xd8\\xff\\xe0\\x00\\x10JFIF\\x00\\x01\\x01\\x00...   \n",
       "126  b'\\xff\\xd8\\xff\\xe0\\x00\\x10JFIF\\x00\\x01\\x01\\x00...   \n",
       "127  b'\\xff\\xd8\\xff\\xe0\\x00\\x10JFIF\\x00\\x01\\x01\\x00...   \n",
       "128  b'\\xff\\xd8\\xff\\xe0\\x00\\x10JFIF\\x00\\x01\\x01\\x00...   \n",
       "129  b'\\xff\\xd8\\xff\\xe0\\x00\\x10JFIF\\x00\\x01\\x01\\x00...   \n",
       "\n",
       "                                                vector  \n",
       "125  [-0.1441657, -0.18747765, -0.16826846, -0.1800...  \n",
       "126  [-0.10117926, -0.09878854, 0.06405701, -0.0227...  \n",
       "127  [-0.13692749, -0.14139369, 0.24011154, 0.07854...  \n",
       "128  [-0.1577483, -0.07757879, 0.1852913, 0.0405876...  \n",
       "129  [-0.14650379, -0.2218233, -0.10506437, -0.1519...  "
      ]
     },
     "execution_count": 11,
     "metadata": {},
     "output_type": "execute_result"
    }
   ],
   "source": [
    "coco128_exp.table.to_pandas().tail()"
   ]
  },
  {
   "cell_type": "code",
   "execution_count": 12,
   "id": "d0f8e343",
   "metadata": {},
   "outputs": [
    {
     "data": {
      "text/html": [
       "<div>\n",
       "<style scoped>\n",
       "    .dataframe tbody tr th:only-of-type {\n",
       "        vertical-align: middle;\n",
       "    }\n",
       "\n",
       "    .dataframe tbody tr th {\n",
       "        vertical-align: top;\n",
       "    }\n",
       "\n",
       "    .dataframe thead th {\n",
       "        text-align: right;\n",
       "    }\n",
       "</style>\n",
       "<table border=\"1\" class=\"dataframe\">\n",
       "  <thead>\n",
       "    <tr style=\"text-align: right;\">\n",
       "      <th></th>\n",
       "      <th>id</th>\n",
       "      <th>path</th>\n",
       "      <th>cls</th>\n",
       "      <th>labels</th>\n",
       "      <th>bboxes</th>\n",
       "      <th>img</th>\n",
       "      <th>vector</th>\n",
       "    </tr>\n",
       "  </thead>\n",
       "  <tbody>\n",
       "    <tr>\n",
       "      <th>0</th>\n",
       "      <td>0</td>\n",
       "      <td>/Users/ayushchaurasia/Documents/ultralytics/da...</td>\n",
       "      <td>[45, 45, 45, 49, 49, 49, 49, 50]</td>\n",
       "      <td>[bowl, bowl, bowl, orange, orange, orange, ora...</td>\n",
       "      <td>[[0.4794920086860657, 0.6887710094451904, 0.95...</td>\n",
       "      <td>b'\\xff\\xd8\\xff\\xe0\\x00\\x10JFIF\\x00\\x01\\x01\\x00...</td>\n",
       "      <td>[-0.02985644, 0.015207137, 0.22520831, 0.13441...</td>\n",
       "    </tr>\n",
       "    <tr>\n",
       "      <th>1</th>\n",
       "      <td>1</td>\n",
       "      <td>/Users/ayushchaurasia/Documents/ultralytics/da...</td>\n",
       "      <td>[23, 23]</td>\n",
       "      <td>[giraffe, giraffe]</td>\n",
       "      <td>[[0.7703359723091125, 0.4896950125694275, 0.33...</td>\n",
       "      <td>b'\\xff\\xd8\\xff\\xe0\\x00\\x10JFIF\\x00\\x01\\x01\\x00...</td>\n",
       "      <td>[-0.2151032, -0.15736936, -0.08698822, -0.0328...</td>\n",
       "    </tr>\n",
       "    <tr>\n",
       "      <th>2</th>\n",
       "      <td>2</td>\n",
       "      <td>/Users/ayushchaurasia/Documents/ultralytics/da...</td>\n",
       "      <td>[58, 75]</td>\n",
       "      <td>[potted plant, vase]</td>\n",
       "      <td>[[0.5192189812660217, 0.4511209726333618, 0.39...</td>\n",
       "      <td>b'\\xff\\xd8\\xff\\xe0\\x00\\x10JFIF\\x00\\x01\\x01\\x00...</td>\n",
       "      <td>[-0.1577483, -0.07757879, 0.1852913, 0.0405876...</td>\n",
       "    </tr>\n",
       "    <tr>\n",
       "      <th>3</th>\n",
       "      <td>3</td>\n",
       "      <td>/Users/ayushchaurasia/Documents/ultralytics/da...</td>\n",
       "      <td>[22]</td>\n",
       "      <td>[zebra]</td>\n",
       "      <td>[[0.3462109863758087, 0.4932590126991272, 0.68...</td>\n",
       "      <td>b'\\xff\\xd8\\xff\\xe0\\x00\\x10JFIF\\x00\\x01\\x01\\x00...</td>\n",
       "      <td>[-0.14650379, -0.2218233, -0.10506437, -0.1519...</td>\n",
       "    </tr>\n",
       "  </tbody>\n",
       "</table>\n",
       "</div>"
      ],
      "text/plain": [
       "   id                                               path  \\\n",
       "0   0  /Users/ayushchaurasia/Documents/ultralytics/da...   \n",
       "1   1  /Users/ayushchaurasia/Documents/ultralytics/da...   \n",
       "2   2  /Users/ayushchaurasia/Documents/ultralytics/da...   \n",
       "3   3  /Users/ayushchaurasia/Documents/ultralytics/da...   \n",
       "\n",
       "                                cls  \\\n",
       "0  [45, 45, 45, 49, 49, 49, 49, 50]   \n",
       "1                          [23, 23]   \n",
       "2                          [58, 75]   \n",
       "3                              [22]   \n",
       "\n",
       "                                              labels  \\\n",
       "0  [bowl, bowl, bowl, orange, orange, orange, ora...   \n",
       "1                                 [giraffe, giraffe]   \n",
       "2                               [potted plant, vase]   \n",
       "3                                            [zebra]   \n",
       "\n",
       "                                              bboxes  \\\n",
       "0  [[0.4794920086860657, 0.6887710094451904, 0.95...   \n",
       "1  [[0.7703359723091125, 0.4896950125694275, 0.33...   \n",
       "2  [[0.5192189812660217, 0.4511209726333618, 0.39...   \n",
       "3  [[0.3462109863758087, 0.4932590126991272, 0.68...   \n",
       "\n",
       "                                                 img  \\\n",
       "0  b'\\xff\\xd8\\xff\\xe0\\x00\\x10JFIF\\x00\\x01\\x01\\x00...   \n",
       "1  b'\\xff\\xd8\\xff\\xe0\\x00\\x10JFIF\\x00\\x01\\x01\\x00...   \n",
       "2  b'\\xff\\xd8\\xff\\xe0\\x00\\x10JFIF\\x00\\x01\\x01\\x00...   \n",
       "3  b'\\xff\\xd8\\xff\\xe0\\x00\\x10JFIF\\x00\\x01\\x01\\x00...   \n",
       "\n",
       "                                              vector  \n",
       "0  [-0.02985644, 0.015207137, 0.22520831, 0.13441...  \n",
       "1  [-0.2151032, -0.15736936, -0.08698822, -0.0328...  \n",
       "2  [-0.1577483, -0.07757879, 0.1852913, 0.0405876...  \n",
       "3  [-0.14650379, -0.2218233, -0.10506437, -0.1519...  "
      ]
     },
     "execution_count": 12,
     "metadata": {},
     "output_type": "execute_result"
    }
   ],
   "source": [
    "coco8_exp.table.to_pandas()"
   ]
  },
  {
   "cell_type": "code",
   "execution_count": 13,
   "id": "733c19b6",
   "metadata": {},
   "outputs": [
    {
     "name": "stderr",
     "output_type": "stream",
     "text": [
      "Persisting changes to the dataset...\n",
      "\n",
      "|-----------------------------------------------|\n",
      "\t Number of images: 130\n",
      "|------------------------------------------------|\n",
      "100%|██████████████████████████████████████████████████████████████████████████████████████████████████| 130/130 [00:00<00:00, 17542.05it/s]\n",
      "Changes persisted to the dataset.\n",
      "\u001b[34m\u001b[1mLanceDB: \u001b[0mNew dataset created successfully! Run the following command to train a model:\n",
      "yolo train data=run/coco_updated epochs=10\n"
     ]
    }
   ],
   "source": [
    "coco128_exp.persist(\"coco_updated\")"
   ]
  },
  {
   "cell_type": "code",
   "execution_count": 15,
   "id": "612c7464",
   "metadata": {
    "scrolled": true
   },
   "outputs": [
    {
     "name": "stderr",
     "output_type": "stream",
     "text": [
      "Ultralytics YOLOv8.0.120 🚀 Python-3.11.4 torch-2.0.1 CPU\n",
      "YOLOv8n summary (fused): 168 layers, 3151904 parameters, 0 gradients\n",
      "Scanning /Users/ayushchaurasia/Documents/ultralytics/datasets/coco128/labels/train2017... 128 images, 2 backgrounds, 0 corrupt: 100%|███████\n",
      "New cache created: /Users/ayushchaurasia/Documents/ultralytics/datasets/coco128/labels/train2017.cache\n"
     ]
    },
    {
     "name": "stdout",
     "output_type": "stream",
     "text": [
      "WARNING: rate limit only support up to 3.10, proceeding without rate limiter\n"
     ]
    },
    {
     "name": "stderr",
     "output_type": "stream",
     "text": [
      "100%|█████████████████████████████████████████████████████████████████████████████████████████████████████| 130/130 [00:06<00:00, 21.50it/s]\n",
      "\u001b[34m\u001b[1mLanceDB:\u001b[0m Embedding space built successfully.\n"
     ]
    }
   ],
   "source": [
    "coco_updated = Explorer(\"coco_updated/coco_updated.yaml\")\n",
    "coco_updated.build_embeddings()"
   ]
  },
  {
   "cell_type": "code",
   "execution_count": 23,
   "id": "1f2ec47e",
   "metadata": {},
   "outputs": [
    {
     "data": {
      "text/html": [
       "<div>\n",
       "<style scoped>\n",
       "    .dataframe tbody tr th:only-of-type {\n",
       "        vertical-align: middle;\n",
       "    }\n",
       "\n",
       "    .dataframe tbody tr th {\n",
       "        vertical-align: top;\n",
       "    }\n",
       "\n",
       "    .dataframe thead th {\n",
       "        text-align: right;\n",
       "    }\n",
       "</style>\n",
       "<table border=\"1\" class=\"dataframe\">\n",
       "  <thead>\n",
       "    <tr style=\"text-align: right;\">\n",
       "      <th></th>\n",
       "      <th>id</th>\n",
       "      <th>path</th>\n",
       "      <th>cls</th>\n",
       "      <th>labels</th>\n",
       "      <th>bboxes</th>\n",
       "      <th>img</th>\n",
       "      <th>vector</th>\n",
       "    </tr>\n",
       "  </thead>\n",
       "  <tbody>\n",
       "    <tr>\n",
       "      <th>0</th>\n",
       "      <td>7</td>\n",
       "      <td>/Users/ayushchaurasia/Documents/ultralytics/da...</td>\n",
       "      <td>[0, 0, 0, 20, 20]</td>\n",
       "      <td>[person, person, person, elephant, elephant]</td>\n",
       "      <td>[[0.44568800926208496, 0.48061496019363403, 0....</td>\n",
       "      <td>[255, 216, 255, 224, 0, 16, 74, 70, 73, 70, 0,...</td>\n",
       "      <td>[-0.16883952915668488, -0.19498196244239807, -...</td>\n",
       "    </tr>\n",
       "    <tr>\n",
       "      <th>1</th>\n",
       "      <td>45</td>\n",
       "      <td>/Users/ayushchaurasia/Documents/ultralytics/da...</td>\n",
       "      <td>[20, 20]</td>\n",
       "      <td>[elephant, elephant]</td>\n",
       "      <td>[[0.6323270201683044, 0.6266880035400391, 0.73...</td>\n",
       "      <td>[255, 216, 255, 224, 0, 16, 74, 70, 73, 70, 0,...</td>\n",
       "      <td>[-0.13958469033241272, -0.14195983111858368, 0...</td>\n",
       "    </tr>\n",
       "    <tr>\n",
       "      <th>2</th>\n",
       "      <td>51</td>\n",
       "      <td>/Users/ayushchaurasia/Documents/ultralytics/da...</td>\n",
       "      <td>[20, 20, 20, 20, 20, 20]</td>\n",
       "      <td>[elephant, elephant, elephant, elephant, eleph...</td>\n",
       "      <td>[[0.18141399323940277, 0.6764050126075745, 0.3...</td>\n",
       "      <td>[255, 216, 255, 224, 0, 16, 74, 70, 73, 70, 0,...</td>\n",
       "      <td>[-0.19354629516601562, -0.1750415414571762, -0...</td>\n",
       "    </tr>\n",
       "    <tr>\n",
       "      <th>3</th>\n",
       "      <td>114</td>\n",
       "      <td>/Users/ayushchaurasia/Documents/ultralytics/da...</td>\n",
       "      <td>[20, 20, 20, 20, 20, 20, 20]</td>\n",
       "      <td>[elephant, elephant, elephant, elephant, eleph...</td>\n",
       "      <td>[[0.5598670244216919, 0.7241129279136658, 0.06...</td>\n",
       "      <td>[255, 216, 255, 224, 0, 16, 74, 70, 73, 70, 0,...</td>\n",
       "      <td>[-0.18665747344493866, -0.1859922856092453, -0...</td>\n",
       "    </tr>\n",
       "  </tbody>\n",
       "</table>\n",
       "</div>"
      ],
      "text/plain": [
       "    id                                               path  \\\n",
       "0    7  /Users/ayushchaurasia/Documents/ultralytics/da...   \n",
       "1   45  /Users/ayushchaurasia/Documents/ultralytics/da...   \n",
       "2   51  /Users/ayushchaurasia/Documents/ultralytics/da...   \n",
       "3  114  /Users/ayushchaurasia/Documents/ultralytics/da...   \n",
       "\n",
       "                            cls  \\\n",
       "0             [0, 0, 0, 20, 20]   \n",
       "1                      [20, 20]   \n",
       "2      [20, 20, 20, 20, 20, 20]   \n",
       "3  [20, 20, 20, 20, 20, 20, 20]   \n",
       "\n",
       "                                              labels  \\\n",
       "0       [person, person, person, elephant, elephant]   \n",
       "1                               [elephant, elephant]   \n",
       "2  [elephant, elephant, elephant, elephant, eleph...   \n",
       "3  [elephant, elephant, elephant, elephant, eleph...   \n",
       "\n",
       "                                              bboxes  \\\n",
       "0  [[0.44568800926208496, 0.48061496019363403, 0....   \n",
       "1  [[0.6323270201683044, 0.6266880035400391, 0.73...   \n",
       "2  [[0.18141399323940277, 0.6764050126075745, 0.3...   \n",
       "3  [[0.5598670244216919, 0.7241129279136658, 0.06...   \n",
       "\n",
       "                                                 img  \\\n",
       "0  [255, 216, 255, 224, 0, 16, 74, 70, 73, 70, 0,...   \n",
       "1  [255, 216, 255, 224, 0, 16, 74, 70, 73, 70, 0,...   \n",
       "2  [255, 216, 255, 224, 0, 16, 74, 70, 73, 70, 0,...   \n",
       "3  [255, 216, 255, 224, 0, 16, 74, 70, 73, 70, 0,...   \n",
       "\n",
       "                                              vector  \n",
       "0  [-0.16883952915668488, -0.19498196244239807, -...  \n",
       "1  [-0.13958469033241272, -0.14195983111858368, 0...  \n",
       "2  [-0.19354629516601562, -0.1750415414571762, -0...  \n",
       "3  [-0.18665747344493866, -0.1859922856092453, -0...  "
      ]
     },
     "execution_count": 23,
     "metadata": {},
     "output_type": "execute_result"
    }
   ],
   "source": [
    "# Remove data containing elephant\n",
    "coco_updated.sql(\"SELECT * FROM 'table' WHERE labels LIKE '%elephant, elephant%'\")"
   ]
  },
  {
   "cell_type": "code",
   "execution_count": 24,
   "id": "a9d676f9",
   "metadata": {},
   "outputs": [
    {
     "name": "stderr",
     "output_type": "stream",
     "text": [
      "\n",
      "|-----------------------------------------------|\n",
      "\t Number of images: 126\n",
      "|------------------------------------------------|\n"
     ]
    }
   ],
   "source": [
    "coco_updated.remove_imgs([7, 45, 51, 114])"
   ]
  },
  {
   "cell_type": "code",
   "execution_count": 18,
   "id": "060fb7bf",
   "metadata": {},
   "outputs": [
    {
     "name": "stdout",
     "output_type": "stream",
     "text": [
      "130\n"
     ]
    },
    {
     "data": {
      "text/html": [
       "<div>\n",
       "<style scoped>\n",
       "    .dataframe tbody tr th:only-of-type {\n",
       "        vertical-align: middle;\n",
       "    }\n",
       "\n",
       "    .dataframe tbody tr th {\n",
       "        vertical-align: top;\n",
       "    }\n",
       "\n",
       "    .dataframe thead th {\n",
       "        text-align: right;\n",
       "    }\n",
       "</style>\n",
       "<table border=\"1\" class=\"dataframe\">\n",
       "  <thead>\n",
       "    <tr style=\"text-align: right;\">\n",
       "      <th></th>\n",
       "      <th>id</th>\n",
       "      <th>path</th>\n",
       "      <th>cls</th>\n",
       "      <th>labels</th>\n",
       "      <th>bboxes</th>\n",
       "      <th>img</th>\n",
       "      <th>vector</th>\n",
       "    </tr>\n",
       "  </thead>\n",
       "  <tbody>\n",
       "    <tr>\n",
       "      <th>125</th>\n",
       "      <td>125</td>\n",
       "      <td>/Users/ayushchaurasia/Documents/ultralytics/da...</td>\n",
       "      <td>[0, 0, 0, 0, 0, 0, 0, 0, 0, 1, 1, 5]</td>\n",
       "      <td>[person, person, person, person, person, perso...</td>\n",
       "      <td>[[0.912320077419281, 0.5608879923820496, 0.017...</td>\n",
       "      <td>b'\\xff\\xd8\\xff\\xe0\\x00\\x10JFIF\\x00\\x01\\x01\\x00...</td>\n",
       "      <td>[-0.1441657, -0.18747765, -0.16826846, -0.1800...</td>\n",
       "    </tr>\n",
       "    <tr>\n",
       "      <th>126</th>\n",
       "      <td>126</td>\n",
       "      <td>/Users/ayushchaurasia/Documents/ultralytics/da...</td>\n",
       "      <td>[39, 39, 45, 62, 64, 73, 73, 73, 73, 73, 73, 7...</td>\n",
       "      <td>[bottle, bottle, bowl, tv, mouse, book, book, ...</td>\n",
       "      <td>[[0.18036000430583954, 0.8277199864387512, 0.0...</td>\n",
       "      <td>b'\\xff\\xd8\\xff\\xe0\\x00\\x10JFIF\\x00\\x01\\x01\\x00...</td>\n",
       "      <td>[-0.10117926, -0.09878854, 0.06405701, -0.0227...</td>\n",
       "    </tr>\n",
       "    <tr>\n",
       "      <th>127</th>\n",
       "      <td>127</td>\n",
       "      <td>/Users/ayushchaurasia/Documents/ultralytics/da...</td>\n",
       "      <td>[2, 15]</td>\n",
       "      <td>[car, cat]</td>\n",
       "      <td>[[0.5018590092658997, 0.8207259178161621, 0.99...</td>\n",
       "      <td>b'\\xff\\xd8\\xff\\xe0\\x00\\x10JFIF\\x00\\x01\\x01\\x00...</td>\n",
       "      <td>[-0.13692749, -0.14139369, 0.24011154, 0.07854...</td>\n",
       "    </tr>\n",
       "    <tr>\n",
       "      <th>128</th>\n",
       "      <td>128</td>\n",
       "      <td>/Users/ayushchaurasia/Documents/ultralytics/da...</td>\n",
       "      <td>[58, 75]</td>\n",
       "      <td>[potted plant, vase]</td>\n",
       "      <td>[[0.5192189812660217, 0.4511209726333618, 0.39...</td>\n",
       "      <td>b'\\xff\\xd8\\xff\\xe0\\x00\\x10JFIF\\x00\\x01\\x01\\x00...</td>\n",
       "      <td>[-0.1577483, -0.07757879, 0.1852913, 0.0405876...</td>\n",
       "    </tr>\n",
       "    <tr>\n",
       "      <th>129</th>\n",
       "      <td>129</td>\n",
       "      <td>/Users/ayushchaurasia/Documents/ultralytics/da...</td>\n",
       "      <td>[22]</td>\n",
       "      <td>[zebra]</td>\n",
       "      <td>[[0.3462109863758087, 0.4932590126991272, 0.68...</td>\n",
       "      <td>b'\\xff\\xd8\\xff\\xe0\\x00\\x10JFIF\\x00\\x01\\x01\\x00...</td>\n",
       "      <td>[-0.14650379, -0.2218233, -0.10506437, -0.1519...</td>\n",
       "    </tr>\n",
       "  </tbody>\n",
       "</table>\n",
       "</div>"
      ],
      "text/plain": [
       "      id                                               path  \\\n",
       "125  125  /Users/ayushchaurasia/Documents/ultralytics/da...   \n",
       "126  126  /Users/ayushchaurasia/Documents/ultralytics/da...   \n",
       "127  127  /Users/ayushchaurasia/Documents/ultralytics/da...   \n",
       "128  128  /Users/ayushchaurasia/Documents/ultralytics/da...   \n",
       "129  129  /Users/ayushchaurasia/Documents/ultralytics/da...   \n",
       "\n",
       "                                                   cls  \\\n",
       "125               [0, 0, 0, 0, 0, 0, 0, 0, 0, 1, 1, 5]   \n",
       "126  [39, 39, 45, 62, 64, 73, 73, 73, 73, 73, 73, 7...   \n",
       "127                                            [2, 15]   \n",
       "128                                           [58, 75]   \n",
       "129                                               [22]   \n",
       "\n",
       "                                                labels  \\\n",
       "125  [person, person, person, person, person, perso...   \n",
       "126  [bottle, bottle, bowl, tv, mouse, book, book, ...   \n",
       "127                                         [car, cat]   \n",
       "128                               [potted plant, vase]   \n",
       "129                                            [zebra]   \n",
       "\n",
       "                                                bboxes  \\\n",
       "125  [[0.912320077419281, 0.5608879923820496, 0.017...   \n",
       "126  [[0.18036000430583954, 0.8277199864387512, 0.0...   \n",
       "127  [[0.5018590092658997, 0.8207259178161621, 0.99...   \n",
       "128  [[0.5192189812660217, 0.4511209726333618, 0.39...   \n",
       "129  [[0.3462109863758087, 0.4932590126991272, 0.68...   \n",
       "\n",
       "                                                   img  \\\n",
       "125  b'\\xff\\xd8\\xff\\xe0\\x00\\x10JFIF\\x00\\x01\\x01\\x00...   \n",
       "126  b'\\xff\\xd8\\xff\\xe0\\x00\\x10JFIF\\x00\\x01\\x01\\x00...   \n",
       "127  b'\\xff\\xd8\\xff\\xe0\\x00\\x10JFIF\\x00\\x01\\x01\\x00...   \n",
       "128  b'\\xff\\xd8\\xff\\xe0\\x00\\x10JFIF\\x00\\x01\\x01\\x00...   \n",
       "129  b'\\xff\\xd8\\xff\\xe0\\x00\\x10JFIF\\x00\\x01\\x01\\x00...   \n",
       "\n",
       "                                                vector  \n",
       "125  [-0.1441657, -0.18747765, -0.16826846, -0.1800...  \n",
       "126  [-0.10117926, -0.09878854, 0.06405701, -0.0227...  \n",
       "127  [-0.13692749, -0.14139369, 0.24011154, 0.07854...  \n",
       "128  [-0.1577483, -0.07757879, 0.1852913, 0.0405876...  \n",
       "129  [-0.14650379, -0.2218233, -0.10506437, -0.1519...  "
      ]
     },
     "execution_count": 18,
     "metadata": {},
     "output_type": "execute_result"
    }
   ],
   "source": [
    "print(len(coco_updated.table)) #should be updated\n",
    "coco_updated.table.to_pandas().tail()"
   ]
  }
 ],
 "metadata": {
  "kernelspec": {
   "display_name": "Python 3 (ipykernel)",
   "language": "python",
   "name": "python3"
  },
  "language_info": {
   "codemirror_mode": {
    "name": "ipython",
    "version": 3
   },
   "file_extension": ".py",
   "mimetype": "text/x-python",
   "name": "python",
   "nbconvert_exporter": "python",
   "pygments_lexer": "ipython3",
   "version": "3.11.4"
  }
 },
 "nbformat": 4,
 "nbformat_minor": 5
}
